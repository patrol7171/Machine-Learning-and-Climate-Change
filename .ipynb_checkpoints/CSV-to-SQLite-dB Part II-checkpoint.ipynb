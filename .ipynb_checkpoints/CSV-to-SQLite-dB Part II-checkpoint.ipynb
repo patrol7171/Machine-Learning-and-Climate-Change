{
 "cells": [
  {
   "cell_type": "code",
   "execution_count": 1,
   "metadata": {},
   "outputs": [],
   "source": [
    "import sqlalchemy\n",
    "from sqlalchemy import create_engine, MetaData\n",
    "from sqlalchemy.ext.declarative import declarative_base\n",
    "from sqlalchemy import Column, Integer, String, Numeric, Text, Float\n",
    "import pandas as pd"
   ]
  },
  {
   "cell_type": "code",
   "execution_count": 2,
   "metadata": {},
   "outputs": [],
   "source": [
    "engine = create_engine(\"sqlite:///Global_Land_Temps.sqlite\")\n",
    "conn = engine.connect()"
   ]
  },
  {
   "cell_type": "code",
   "execution_count": 3,
   "metadata": {},
   "outputs": [],
   "source": [
    "state_GLT_df = pd.read_csv(\"All Datasets/climate-change-earth-surface-temperature-data/GLTbyState100.csv\", low_memory=False)\n",
    "country_GLT_df = pd.read_csv(\"All Datasets/climate-change-earth-surface-temperature-data/GLTbyCountry100.csv\", low_memory=False)\n",
    "GT_df = pd.read_csv(\"All Datasets/climate-change-earth-surface-temperature-data/GLT100.csv\", low_memory=False)"
   ]
  },
  {
   "cell_type": "code",
   "execution_count": 4,
   "metadata": {},
   "outputs": [],
   "source": [
    "Base = declarative_base()\n",
    "class States_GLT(Base):\n",
    "    __tablename__ = 'GLT_By_State'\n",
    "\n",
    "    id = Column(Integer, primary_key=True)\n",
    "    dt = Column(Text)\n",
    "    AverageTemperature = Column(Float)\n",
    "    AverageTemperatureUncertainty = Column(Float)\n",
    "    State = Column(Text)\n",
    "    Country = Column(Text)\n",
    "\n",
    "class Countries_GLT(Base):\n",
    "    __tablename__ = 'GLT_By_Country'\n",
    "\n",
    "    id = Column(Integer, primary_key=True)\n",
    "    dt = Column(Text)\n",
    "    AverageTemperature = Column(Float)\n",
    "    AverageTemperatureUncertainty = Column(Float)\n",
    "    Country = Column(Text)\n",
    "\n",
    "class GLT_General(Base):\n",
    "    __tablename__ = 'GLT'\n",
    "\n",
    "    id = Column(Integer, primary_key=True)\n",
    "    dt = Column(Text)\n",
    "    LandAverageTemperature = Column(Float)\n",
    "    LandAverageTemperatureUncertainty = Column(Float)\n",
    "    LandMaxTemperature = Column(Float)\n",
    "    LandMaxTemperatureUncertainty = Column(Float)\n",
    "    LandMinTemperature = Column(Float)\n",
    "    LandMinTemperatureUncertainty = Column(Float)\n",
    "    LandAndOceanAverageTemperature = Column(Float)\n",
    "    LandAndOceanAverageTemperatureUncertainty = Column(Float)\n",
    "   \n",
    "    def __repr__(self):\n",
    "        return \"id={self.id}, name={self.name}\""
   ]
  },
  {
   "cell_type": "code",
   "execution_count": 5,
   "metadata": {},
   "outputs": [],
   "source": [
    "Base.metadata.create_all(engine)\n",
    "data2 = state_GLT_df.to_dict(orient='records')\n",
    "data3 = country_GLT_df.to_dict(orient='records')\n",
    "data4 = GT_df.to_dict(orient='records')"
   ]
  },
  {
   "cell_type": "code",
   "execution_count": 6,
   "metadata": {},
   "outputs": [
    {
     "name": "stdout",
     "output_type": "stream",
     "text": [
      "[{'dt': '1918-01-01', 'AverageTemperature': 24.22300000000001, 'AverageTemperatureUncertainty': 0.573, 'State': 'Acre', 'Country': 'Brazil'}, {'dt': '1918-02-01', 'AverageTemperature': 24.663, 'AverageTemperatureUncertainty': 1.286, 'State': 'Acre', 'Country': 'Brazil'}, {'dt': '1918-03-01', 'AverageTemperature': 24.882, 'AverageTemperatureUncertainty': 0.7120000000000001, 'State': 'Acre', 'Country': 'Brazil'}, {'dt': '1918-04-01', 'AverageTemperature': 25.038, 'AverageTemperatureUncertainty': 0.461, 'State': 'Acre', 'Country': 'Brazil'}, {'dt': '1918-05-01', 'AverageTemperature': 25.27, 'AverageTemperatureUncertainty': 0.562, 'State': 'Acre', 'Country': 'Brazil'}]\n",
      "[{'dt': '1918-01-01', 'AverageTemperature': -5.4339999999999975, 'AverageTemperatureUncertainty': 0.5579999999999999, 'Country': 'Åland'}, {'dt': '1918-02-01', 'AverageTemperature': -2.636, 'AverageTemperatureUncertainty': 0.449, 'Country': 'Åland'}, {'dt': '1918-03-01', 'AverageTemperature': -1.0500000000000005, 'AverageTemperatureUncertainty': 0.612, 'Country': 'Åland'}, {'dt': '1918-04-01', 'AverageTemperature': 2.615, 'AverageTemperatureUncertainty': 0.418, 'Country': 'Åland'}, {'dt': '1918-05-01', 'AverageTemperature': 7.162999999999999, 'AverageTemperatureUncertainty': 0.343, 'Country': 'Åland'}]\n",
      "[{'dt': '1918-01-01', 'LandAverageTemperature': 1.934, 'LandAverageTemperatureUncertainty': 0.251, 'LandMaxTemperature': 7.5520000000000005, 'LandMaxTemperatureUncertainty': 0.261, 'LandMinTemperature': -3.8020000000000014, 'LandMinTemperatureUncertainty': 0.371, 'LandAndOceanAverageTemperature': 13.129000000000001, 'LandAndOceanAverageTemperatureUncertainty': 0.141}, {'dt': '1918-02-01', 'LandAverageTemperature': 2.455, 'LandAverageTemperatureUncertainty': 0.342, 'LandMaxTemperature': 8.256, 'LandMaxTemperatureUncertainty': 0.314, 'LandMinTemperature': -3.568, 'LandMinTemperatureUncertainty': 0.344, 'LandAndOceanAverageTemperature': 13.312, 'LandAndOceanAverageTemperatureUncertainty': 0.156}, {'dt': '1918-03-01', 'LandAverageTemperature': 4.811, 'LandAverageTemperatureUncertainty': 0.257, 'LandMaxTemperature': 10.704, 'LandMaxTemperatureUncertainty': 0.197, 'LandMinTemperature': -1.2670000000000001, 'LandMinTemperatureUncertainty': 0.31, 'LandAndOceanAverageTemperature': 14.034, 'LandAndOceanAverageTemperatureUncertainty': 0.147}, {'dt': '1918-04-01', 'LandAverageTemperature': 7.643999999999999, 'LandAverageTemperatureUncertainty': 0.258, 'LandMaxTemperature': 13.706, 'LandMaxTemperatureUncertainty': 0.255, 'LandMinTemperature': 1.426, 'LandMinTemperatureUncertainty': 0.38, 'LandAndOceanAverageTemperature': 14.794, 'LandAndOceanAverageTemperatureUncertainty': 0.14800000000000002}, {'dt': '1918-05-01', 'LandAverageTemperature': 10.54, 'LandAverageTemperatureUncertainty': 0.304, 'LandMaxTemperature': 16.48, 'LandMaxTemperatureUncertainty': 0.332, 'LandMinTemperature': 4.386, 'LandMinTemperatureUncertainty': 0.359, 'LandAndOceanAverageTemperature': 15.732999999999999, 'LandAndOceanAverageTemperatureUncertainty': 0.156}]\n"
     ]
    }
   ],
   "source": [
    "print(data2[:5])\n",
    "print(data3[:5])\n",
    "print(data4[:5])"
   ]
  },
  {
   "cell_type": "code",
   "execution_count": 7,
   "metadata": {},
   "outputs": [],
   "source": [
    "metadata = MetaData(bind=engine)\n",
    "metadata.reflect()"
   ]
  },
  {
   "cell_type": "code",
   "execution_count": 8,
   "metadata": {},
   "outputs": [],
   "source": [
    "table2 = sqlalchemy.Table('GLT_By_State', metadata, autoload=True)\n",
    "table3 = sqlalchemy.Table('GLT_By_Country', metadata, autoload=True)\n",
    "table4 = sqlalchemy.Table('GLT', metadata, autoload=True)"
   ]
  },
  {
   "cell_type": "code",
   "execution_count": 9,
   "metadata": {},
   "outputs": [
    {
     "data": {
      "text/plain": [
       "<sqlalchemy.engine.result.ResultProxy at 0x25dd99740b8>"
      ]
     },
     "execution_count": 9,
     "metadata": {},
     "output_type": "execute_result"
    }
   ],
   "source": [
    "conn.execute(table2.insert(), data2)\n",
    "conn.execute(table3.insert(), data3)\n",
    "conn.execute(table4.insert(), data4)"
   ]
  },
  {
   "cell_type": "code",
   "execution_count": 10,
   "metadata": {},
   "outputs": [
    {
     "data": {
      "text/plain": [
       "[(1, '1918-01-01', 24.22300000000001, 0.573, 'Acre', 'Brazil'),\n",
       " (2, '1918-02-01', 24.663, 1.286, 'Acre', 'Brazil'),\n",
       " (3, '1918-03-01', 24.882, 0.7120000000000001, 'Acre', 'Brazil'),\n",
       " (4, '1918-04-01', 25.038, 0.461, 'Acre', 'Brazil'),\n",
       " (5, '1918-05-01', 25.27, 0.562, 'Acre', 'Brazil')]"
      ]
     },
     "execution_count": 10,
     "metadata": {},
     "output_type": "execute_result"
    }
   ],
   "source": [
    "conn.execute(\"select * from GLT_By_State limit 5\").fetchall()"
   ]
  },
  {
   "cell_type": "code",
   "execution_count": 11,
   "metadata": {},
   "outputs": [
    {
     "data": {
      "text/plain": [
       "[(1, '1918-01-01', -5.4339999999999975, 0.5579999999999999, None, 'Åland'),\n",
       " (2, '1918-02-01', -2.636, 0.449, None, 'Åland'),\n",
       " (3, '1918-03-01', -1.0500000000000005, 0.612, None, 'Åland'),\n",
       " (4, '1918-04-01', 2.615, 0.418, None, 'Åland'),\n",
       " (5, '1918-05-01', 7.162999999999999, 0.343, None, 'Åland')]"
      ]
     },
     "execution_count": 11,
     "metadata": {},
     "output_type": "execute_result"
    }
   ],
   "source": [
    "conn.execute(\"select * from GLT_By_Country limit 5\").fetchall()"
   ]
  },
  {
   "cell_type": "code",
   "execution_count": 12,
   "metadata": {},
   "outputs": [
    {
     "data": {
      "text/plain": [
       "[(1, '1918-01-01', 1.934, 0.251, 7.5520000000000005, None, -3.8020000000000014, 0.371, 13.129000000000001, 0.141),\n",
       " (2, '1918-02-01', 2.455, 0.342, 8.256, None, -3.568, 0.344, 13.312, 0.156),\n",
       " (3, '1918-03-01', 4.811, 0.257, 10.704, None, -1.2670000000000001, 0.31, 14.034, 0.147),\n",
       " (4, '1918-04-01', 7.643999999999999, 0.258, 13.706, None, 1.426, 0.38, 14.794, 0.14800000000000002),\n",
       " (5, '1918-05-01', 10.54, 0.304, 16.48, None, 4.386, 0.359, 15.732999999999999, 0.156)]"
      ]
     },
     "execution_count": 12,
     "metadata": {},
     "output_type": "execute_result"
    }
   ],
   "source": [
    "conn.execute(\"select * from GLT limit 5\").fetchall()"
   ]
  },
  {
   "cell_type": "code",
   "execution_count": null,
   "metadata": {},
   "outputs": [],
   "source": []
  }
 ],
 "metadata": {
  "kernelspec": {
   "display_name": "Python 3",
   "language": "python",
   "name": "python3"
  },
  "language_info": {
   "codemirror_mode": {
    "name": "ipython",
    "version": 3
   },
   "file_extension": ".py",
   "mimetype": "text/x-python",
   "name": "python",
   "nbconvert_exporter": "python",
   "pygments_lexer": "ipython3",
   "version": "3.6.4"
  }
 },
 "nbformat": 4,
 "nbformat_minor": 2
}
