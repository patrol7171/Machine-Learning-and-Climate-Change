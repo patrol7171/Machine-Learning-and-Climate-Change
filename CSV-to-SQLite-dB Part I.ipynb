{
 "cells": [
  {
   "cell_type": "code",
   "execution_count": 1,
   "metadata": {},
   "outputs": [],
   "source": [
    "# Python SQL toolkit and Object Relational Mapper\n",
    "import sqlalchemy\n",
    "from sqlalchemy import create_engine, MetaData\n",
    "from sqlalchemy.ext.declarative import declarative_base\n",
    "from sqlalchemy import Column, Integer, String, Numeric, Text, Float\n",
    "import pandas as pd"
   ]
  },
  {
   "cell_type": "code",
   "execution_count": 2,
   "metadata": {},
   "outputs": [],
   "source": [
    "# Create an engine to the SQLite dB\n",
    "engine = create_engine(\"sqlite:///Global_Land_Temps.sqlite\")"
   ]
  },
  {
   "cell_type": "code",
   "execution_count": 3,
   "metadata": {},
   "outputs": [],
   "source": [
    "# Create a connection to the engine called `conn`\n",
    "conn = engine.connect()"
   ]
  },
  {
   "cell_type": "code",
   "execution_count": 4,
   "metadata": {},
   "outputs": [],
   "source": [
    "# Load the cleaned csv file into a pandas dataframe\n",
    "new_df = pd.read_csv(\"All Datasets/climate-change-earth-surface-temperature-data/US_Cities_GLT.csv\", low_memory=False)"
   ]
  },
  {
   "cell_type": "code",
   "execution_count": 5,
   "metadata": {},
   "outputs": [
    {
     "name": "stdout",
     "output_type": "stream",
     "text": [
      "<class 'pandas.core.frame.DataFrame'>\n",
      "RangeIndex: 294522 entries, 0 to 294521\n",
      "Data columns (total 7 columns):\n",
      "dt                               294522 non-null object\n",
      "AverageTemperature               294522 non-null float64\n",
      "AverageTemperatureUncertainty    294522 non-null float64\n",
      "City                             294522 non-null object\n",
      "Country                          294522 non-null object\n",
      "Latitude                         294522 non-null object\n",
      "Longitude                        294522 non-null object\n",
      "dtypes: float64(2), object(5)\n",
      "memory usage: 15.7+ MB\n"
     ]
    }
   ],
   "source": [
    "# Verify the datatypes\n",
    "new_df.info()"
   ]
  },
  {
   "cell_type": "code",
   "execution_count": 6,
   "metadata": {},
   "outputs": [],
   "source": [
    "# Use `declarative_base` from SQLAlchemy to model the table as an ORM class\n",
    "Base = declarative_base()\n",
    "class US_Cities(Base):\n",
    "    __tablename__ = 'US_Cities_GLT'\n",
    "\n",
    "    id = Column(Integer, primary_key=True)\n",
    "    dt = Column(Text)\n",
    "    AverageTemperature = Column(Float)\n",
    "    AverageTemperatureUncertainty = Column(Float)\n",
    "    City = Column(Text)\n",
    "    Country = Column(Text)\n",
    "    Latitude = Column(Text)\n",
    "    Longitude = Column(Text)\n",
    "   \n",
    "    def __repr__(self):\n",
    "        return \"id={self.id}, name={self.name}\""
   ]
  },
  {
   "cell_type": "code",
   "execution_count": 7,
   "metadata": {},
   "outputs": [],
   "source": [
    "# Use `create_all` to create the table in the database\n",
    "Base.metadata.create_all(engine)"
   ]
  },
  {
   "cell_type": "code",
   "execution_count": 8,
   "metadata": {},
   "outputs": [],
   "source": [
    "# Use Orient='records' to create a list of data to write\n",
    "# to_dict() cleans out DataFrame metadata as well\n",
    "data = new_df.to_dict(orient='records')"
   ]
  },
  {
   "cell_type": "code",
   "execution_count": 9,
   "metadata": {},
   "outputs": [
    {
     "name": "stdout",
     "output_type": "stream",
     "text": [
      "[{'dt': '1918-01-01', 'AverageTemperature': 1.2830000000000004, 'AverageTemperatureUncertainty': 0.325, 'City': 'Abilene', 'Country': 'United States', 'Latitude': '32.95N', 'Longitude': '100.53W'}, {'dt': '1918-02-01', 'AverageTemperature': 9.244, 'AverageTemperatureUncertainty': 0.319, 'City': 'Abilene', 'Country': 'United States', 'Latitude': '32.95N', 'Longitude': '100.53W'}, {'dt': '1918-03-01', 'AverageTemperature': 14.636, 'AverageTemperatureUncertainty': 0.41600000000000004, 'City': 'Abilene', 'Country': 'United States', 'Latitude': '32.95N', 'Longitude': '100.53W'}, {'dt': '1918-04-01', 'AverageTemperature': 16.227999999999998, 'AverageTemperatureUncertainty': 0.44299999999999995, 'City': 'Abilene', 'Country': 'United States', 'Latitude': '32.95N', 'Longitude': '100.53W'}, {'dt': '1918-05-01', 'AverageTemperature': 23.049, 'AverageTemperatureUncertainty': 0.486, 'City': 'Abilene', 'Country': 'United States', 'Latitude': '32.95N', 'Longitude': '100.53W'}]\n"
     ]
    }
   ],
   "source": [
    "# Data is just a list of dictionaries that represent each row of data\n",
    "print(data[:5])"
   ]
  },
  {
   "cell_type": "code",
   "execution_count": 10,
   "metadata": {},
   "outputs": [],
   "source": [
    "# Use MetaData from SQLAlchemy to reflect the tables\n",
    "metadata = MetaData(bind=engine)\n",
    "metadata.reflect()"
   ]
  },
  {
   "cell_type": "code",
   "execution_count": 11,
   "metadata": {},
   "outputs": [],
   "source": [
    "# Save the reference to the table as a variable called `table`\n",
    "table = sqlalchemy.Table('US_Cities_GLT', metadata, autoload=True)"
   ]
  },
  {
   "cell_type": "code",
   "execution_count": 12,
   "metadata": {},
   "outputs": [
    {
     "data": {
      "text/plain": [
       "<sqlalchemy.engine.result.ResultProxy at 0x21a58951898>"
      ]
     },
     "execution_count": 12,
     "metadata": {},
     "output_type": "execute_result"
    }
   ],
   "source": [
    "# Use `table.insert()` to insert the data into the table\n",
    "# The SQL table is populated during this step\n",
    "conn.execute(table.insert(), data)"
   ]
  },
  {
   "cell_type": "code",
   "execution_count": 24,
   "metadata": {},
   "outputs": [
    {
     "data": {
      "text/plain": [
       "[(1, '1918-01-01', 1.2830000000000004, 0.325, 'Abilene', 'United States', '32.95N', '100.53W'),\n",
       " (2, '1918-02-01', 9.244, 0.319, 'Abilene', 'United States', '32.95N', '100.53W'),\n",
       " (3, '1918-03-01', 14.636, 0.41600000000000004, 'Abilene', 'United States', '32.95N', '100.53W'),\n",
       " (4, '1918-04-01', 16.227999999999998, 0.44299999999999995, 'Abilene', 'United States', '32.95N', '100.53W'),\n",
       " (5, '1918-05-01', 23.049, 0.486, 'Abilene', 'United States', '32.95N', '100.53W')]"
      ]
     },
     "execution_count": 24,
     "metadata": {},
     "output_type": "execute_result"
    }
   ],
   "source": [
    "# Test that the insert works by fetching the first 5 rows. \n",
    "conn.execute(\"select * from US_Cities_GLT limit 5\").fetchall()"
   ]
  },
  {
   "cell_type": "code",
   "execution_count": null,
   "metadata": {},
   "outputs": [],
   "source": []
  }
 ],
 "metadata": {
  "kernelspec": {
   "display_name": "Python 3",
   "language": "python",
   "name": "python3"
  },
  "language_info": {
   "codemirror_mode": {
    "name": "ipython",
    "version": 3
   },
   "file_extension": ".py",
   "mimetype": "text/x-python",
   "name": "python",
   "nbconvert_exporter": "python",
   "pygments_lexer": "ipython3",
   "version": "3.6.4"
  }
 },
 "nbformat": 4,
 "nbformat_minor": 2
}
