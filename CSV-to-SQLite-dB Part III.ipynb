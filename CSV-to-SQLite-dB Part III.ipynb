{
 "cells": [
  {
   "cell_type": "code",
   "execution_count": 1,
   "metadata": {},
   "outputs": [],
   "source": [
    "import sqlalchemy\n",
    "from sqlalchemy import create_engine, MetaData\n",
    "from sqlalchemy.ext.declarative import declarative_base\n",
    "from sqlalchemy import Column, Integer, String, Numeric, Text, Float\n",
    "import pandas as pd"
   ]
  },
  {
   "cell_type": "code",
   "execution_count": 2,
   "metadata": {},
   "outputs": [],
   "source": [
    "engine = create_engine(\"sqlite:///Global_Land_Temps.sqlite\")\n",
    "conn = engine.connect()"
   ]
  },
  {
   "cell_type": "code",
   "execution_count": 3,
   "metadata": {},
   "outputs": [
    {
     "name": "stdout",
     "output_type": "stream",
     "text": [
      "<class 'pandas.core.frame.DataFrame'>\n",
      "RangeIndex: 233 entries, 0 to 232\n",
      "Data columns (total 6 columns):\n",
      "Name                                233 non-null object\n",
      "Disaster                            233 non-null object\n",
      "BeginDate                           233 non-null int64\n",
      "EndDate                             233 non-null int64\n",
      "Total_CPI_Adjusted_Cost_Millions    233 non-null float64\n",
      "Deaths                              233 non-null int64\n",
      "dtypes: float64(1), int64(3), object(2)\n",
      "memory usage: 11.0+ KB\n"
     ]
    }
   ],
   "source": [
    "new_df = pd.read_csv(\"All Datasets/US-events-1980-2018.csv\", low_memory=False)\n",
    "new_df.info()"
   ]
  },
  {
   "cell_type": "code",
   "execution_count": 4,
   "metadata": {},
   "outputs": [],
   "source": [
    "Base = declarative_base()\n",
    "class US_Disaster_Events(Base):\n",
    "    __tablename__ = 'US_Disasters'\n",
    "\n",
    "    id = Column(Integer, primary_key=True)\n",
    "    Name = Column(Text)\n",
    "    Disaster = Column(Text)\n",
    "    BeginDate = Column(Integer)\n",
    "    EndDate = Column(Integer)\n",
    "    Total_CPI_Adjusted_Cost_Millions = Column(Float)\n",
    "    Deaths = Column(Integer)\n",
    "   \n",
    "    def __repr__(self):\n",
    "        return \"id={self.id}, name={self.name}\""
   ]
  },
  {
   "cell_type": "code",
   "execution_count": 5,
   "metadata": {},
   "outputs": [],
   "source": [
    "Base.metadata.create_all(engine)"
   ]
  },
  {
   "cell_type": "code",
   "execution_count": 6,
   "metadata": {},
   "outputs": [
    {
     "name": "stdout",
     "output_type": "stream",
     "text": [
      "[{'Name': 'Texas Hail Storm (June 2018)', 'Disaster': 'Severe Storm', 'BeginDate': 20180606, 'EndDate': 20180606, 'Total_CPI_Adjusted_Cost_Millions': 1150.0, 'Deaths': 0}, {'Name': 'Central and Eastern Severe Weather (May 2018)', 'Disaster': 'Severe Storm', 'BeginDate': 20180513, 'EndDate': 20180515, 'Total_CPI_Adjusted_Cost_Millions': 1370.0, 'Deaths': 5}, {'Name': 'Central and Northeastern Severe Weather (May 2018)', 'Disaster': 'Severe Storm', 'BeginDate': 20180501, 'EndDate': 20180504, 'Total_CPI_Adjusted_Cost_Millions': 1018.4, 'Deaths': 0}, {'Name': 'Southeastern Severe Storms and Tornadoes (March 2018)', 'Disaster': 'Severe Storm', 'BeginDate': 20180318, 'EndDate': 20180321, 'Total_CPI_Adjusted_Cost_Millions': 1378.8, 'Deaths': 0}, {'Name': 'Northeast Winter Storm (March 2018)', 'Disaster': 'Winter Storm', 'BeginDate': 20180301, 'EndDate': 20180303, 'Total_CPI_Adjusted_Cost_Millions': 2216.0, 'Deaths': 9}]\n"
     ]
    }
   ],
   "source": [
    "data = new_df.to_dict(orient='records')\n",
    "print(data[:5])"
   ]
  },
  {
   "cell_type": "code",
   "execution_count": 7,
   "metadata": {},
   "outputs": [],
   "source": [
    "metadata = MetaData(bind=engine)\n",
    "metadata.reflect()"
   ]
  },
  {
   "cell_type": "code",
   "execution_count": 8,
   "metadata": {},
   "outputs": [],
   "source": [
    "table = sqlalchemy.Table('US_Disasters', metadata, autoload=True)"
   ]
  },
  {
   "cell_type": "code",
   "execution_count": 9,
   "metadata": {},
   "outputs": [
    {
     "data": {
      "text/plain": [
       "<sqlalchemy.engine.result.ResultProxy at 0x26906a3e0f0>"
      ]
     },
     "execution_count": 9,
     "metadata": {},
     "output_type": "execute_result"
    }
   ],
   "source": [
    "conn.execute(table.insert(), data)"
   ]
  },
  {
   "cell_type": "code",
   "execution_count": 10,
   "metadata": {},
   "outputs": [
    {
     "data": {
      "text/plain": [
       "[(1, 'Texas Hail Storm (June 2018)', 'Severe Storm', 20180606, 20180606, 1150.0, 0),\n",
       " (2, 'Central and Eastern Severe Weather (May 2018)', 'Severe Storm', 20180513, 20180515, 1370.0, 5),\n",
       " (3, 'Central and Northeastern Severe Weather (May 2018)', 'Severe Storm', 20180501, 20180504, 1018.4, 0),\n",
       " (4, 'Southeastern Severe Storms and Tornadoes (March 2018)', 'Severe Storm', 20180318, 20180321, 1378.8, 0),\n",
       " (5, 'Northeast Winter Storm (March 2018)', 'Winter Storm', 20180301, 20180303, 2216.0, 9)]"
      ]
     },
     "execution_count": 10,
     "metadata": {},
     "output_type": "execute_result"
    }
   ],
   "source": [
    "conn.execute(\"select * from US_Disasters limit 5\").fetchall()"
   ]
  },
  {
   "cell_type": "code",
   "execution_count": null,
   "metadata": {},
   "outputs": [],
   "source": []
  }
 ],
 "metadata": {
  "kernelspec": {
   "display_name": "Python 3",
   "language": "python",
   "name": "python3"
  },
  "language_info": {
   "codemirror_mode": {
    "name": "ipython",
    "version": 3
   },
   "file_extension": ".py",
   "mimetype": "text/x-python",
   "name": "python",
   "nbconvert_exporter": "python",
   "pygments_lexer": "ipython3",
   "version": "3.6.4"
  }
 },
 "nbformat": 4,
 "nbformat_minor": 2
}
